{
 "cells": [
  {
   "cell_type": "markdown",
   "metadata": {
    "collapsed": false
   },
   "source": [
    "# Sim's Critique \n",
    "\n",
    "#### Is it clear how the code is organized: \n",
    "Yes, the code is organized pretty clearly. You can dictate between the three functions. \n",
    "\n",
    "#### Is the code properly documented with both docstrings and supplementary comments according to industry standards: \n",
    "The docstrings help explain the functions in a in depth manner.\n",
    "\n",
    "#### Can you follow the algorithm of the code, i.e., what it is doing, and how? Do you see any suggestions for how to improve the code? Discuss: \n",
    "The algorithm of the code can be followed. The three functions are quite distinct. Some suggestions to improve the code may be to be more specific with variables. Since some variables are just assigned letters from the alphabet, it can get confusing to a new reader. Next time, maybe we can give names to the variables so that it is easier to follow. \n",
    "\n"
   ]
  },
  {
   "cell_type": "markdown",
   "metadata": {},
   "source": [
    "# Andrew's Critique \n",
    "\n",
    "#### Is it clear how the code is organized?\n",
    "The organization, I feel, is well. The code is organized to have the multiple functions produced and separated for the main body of the script (functions and generators) and split so readers can see what each function does specifically for the script. \n",
    "\n",
    "#### Is the code properly documented with both docstrings and supplementary comments according to industry standards? \n",
    "Except for the generator function which has no docstring, the other functions have docstrings and a fair amount of comments to discuss the code. The module docstring and fuction docstrings have a good amount of content written in them to discuss the module. The docstrings could use better vocabulary in its description. \n",
    "\n",
    "#### Can you follow the algorithm of the code, i.e., what it is doing, and how? \n",
    "In the eratosthenes(n) function, it was a bit difficult to follow the algorithm from the lack of commenting. Although it is clear that it uses a nested while loop, it could use a bit more comments so unfamiliar readers can more easily follow. The same can be said for the generator function to make the algorithm more clear to follow. In general though, it is clear what each function does. \n",
    "\n",
    "#### Do you see any suggestions for how to improve the code? Discuss.\n",
    "Always look over the code again to make sure everything looks clear and concise. Often the code will visually look good and easy to follow with it's separations, indentations and comments, however upon closer examination of the code, variable names cound be improved, shorter but better comments would make the code look cleaner, and make sure you reference any "
   ]
  },
  {
   "cell_type": "code",
   "execution_count": null,
   "metadata": {
    "collapsed": true
   },
   "outputs": [],
   "source": []
  }
 ],
 "metadata": {
  "kernelspec": {
   "display_name": "Python 2 (SageMath)",
   "language": "python",
   "name": "python2"
  },
  "language_info": {
   "codemirror_mode": {
    "name": "ipython",
    "version": 2
   },
   "file_extension": ".py",
   "mimetype": "text/x-python",
   "name": "python",
   "nbconvert_exporter": "python",
   "pygments_lexer": "ipython2",
   "version": "2.7.10"
  }
 },
 "nbformat": 4,
 "nbformat_minor": 0
}
