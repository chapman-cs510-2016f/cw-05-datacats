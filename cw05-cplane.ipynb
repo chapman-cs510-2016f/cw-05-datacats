{
 "cells": [
  {
   "cell_type": "markdown",
   "metadata": {
    "collapsed": false
   },
   "source": [
    "# Classwork 5 \n",
    "## Simrath Ratra & Andrew Nguyen "
   ]
  },
  {
   "cell_type": "markdown",
   "metadata": {},
   "source": [
    "\n",
    "### Abstract Base Class\n",
    "\n",
    "For this assignment, we used an abstract class to help us create our 2d grid of complex numbers in the complex number plane. \n",
    "\n",
    "The Set of Complex numbers: **$\\mathbb{C}$**\n",
    "\n",
    "In the form: **$x+yi$**\n",
    "\n",
    "Where **$i^2=-1$** , the imaginary number\n",
    "\n",
    "*Note: for python, the imaginary number i is refered as j, which will be shown in the module demonstration below.\n",
    "\n",
    "\n",
    "\n",
    "\n",
    "By Definition, an abstract class is a class that has abstract methods. An abstract method is one that is declared but does not have an implementation. \n",
    "The class itself doesn't do anything, but is used by other classes to \"inherit\" it's methods. This is useful as the abstract class can provide the fundamental 'skeleton' for multiple different modules that uses the class in different ways. \n",
    "This way, the classes do not conflict with each other in terms of implementations, but can both use the abstract class without having to recreate the abstract class' methods within it's module. \n",
    "\n",
    "As so, our Complex Plane class takes the abstract class, abscplane, and builds a 2d grid in the complex number plane. "
   ]
  },
  {
   "cell_type": "markdown",
   "metadata": {},
   "source": [
    "### Module Implementation\n",
    "We start by creating our plane using inputed parameters. \n",
    "We will also be testing the all of our functions, refresh(), zoom(), and set_f() as well."
   ]
  },
  {
   "cell_type": "code",
   "execution_count": 1,
   "metadata": {
    "collapsed": false
   },
   "outputs": [
    {
     "name": "stdout",
     "output_type": "stream",
     "text": [
      "\n",
      "=============Testing our class creation====================\n",
      "\n",
      "[[(-5-5j), (-4-5j), (-3-5j), (-2-5j), (-1-5j), -5j, (1-5j), (2-5j), (3-5j), (4-5j), (5-5j)], [(-5-4j), (-4-4j), (-3-4j), (-2-4j), (-1-4j), -4j, (1-4j), (2-4j), (3-4j), (4-4j), (5-4j)], [(-5-3j), (-4-3j), (-3-3j), (-2-3j), (-1-3j), -3j, (1-3j), (2-3j), (3-3j), (4-3j), (5-3j)], [(-5-2j), (-4-2j), (-3-2j), (-2-2j), (-1-2j), -2j, (1-2j), (2-2j), (3-2j), (4-2j), (5-2j)], [(-5-1j), (-4-1j), (-3-1j), (-2-1j), (-1-1j), -1j, (1-1j), (2-1j), (3-1j), (4-1j), (5-1j)], [(-5+0j), (-4+0j), (-3+0j), (-2+0j), (-1+0j), 0j, (1+0j), (2+0j), (3+0j), (4+0j), (5+0j)], [(-5+1j), (-4+1j), (-3+1j), (-2+1j), (-1+1j), 1j, (1+1j), (2+1j), (3+1j), (4+1j), (5+1j)], [(-5+2j), (-4+2j), (-3+2j), (-2+2j), (-1+2j), 2j, (1+2j), (2+2j), (3+2j), (4+2j), (5+2j)], [(-5+3j), (-4+3j), (-3+3j), (-2+3j), (-1+3j), 3j, (1+3j), (2+3j), (3+3j), (4+3j), (5+3j)], [(-5+4j), (-4+4j), (-3+4j), (-2+4j), (-1+4j), 4j, (1+4j), (2+4j), (3+4j), (4+4j), (5+4j)], [(-5+5j), (-4+5j), (-3+5j), (-2+5j), (-1+5j), 5j, (1+5j), (2+5j), (3+5j), (4+5j), (5+5j)]]\n",
      "\n",
      "=============Testing our refresh function====================\n",
      "\n",
      "[[(-10-5j), (-8-5j), (-6-5j), (-4-5j), (-2-5j), -5j, (2-5j), (4-5j), (6-5j), (8-5j), (10-5j)], [(-10-4j), (-8-4j), (-6-4j), (-4-4j), (-2-4j), -4j, (2-4j), (4-4j), (6-4j), (8-4j), (10-4j)], [(-10-3j), (-8-3j), (-6-3j), (-4-3j), (-2-3j), -3j, (2-3j), (4-3j), (6-3j), (8-3j), (10-3j)], [(-10-2j), (-8-2j), (-6-2j), (-4-2j), (-2-2j), -2j, (2-2j), (4-2j), (6-2j), (8-2j), (10-2j)], [(-10-1j), (-8-1j), (-6-1j), (-4-1j), (-2-1j), -1j, (2-1j), (4-1j), (6-1j), (8-1j), (10-1j)], [(-10+0j), (-8+0j), (-6+0j), (-4+0j), (-2+0j), 0j, (2+0j), (4+0j), (6+0j), (8+0j), (10+0j)], [(-10+1j), (-8+1j), (-6+1j), (-4+1j), (-2+1j), 1j, (2+1j), (4+1j), (6+1j), (8+1j), (10+1j)], [(-10+2j), (-8+2j), (-6+2j), (-4+2j), (-2+2j), 2j, (2+2j), (4+2j), (6+2j), (8+2j), (10+2j)], [(-10+3j), (-8+3j), (-6+3j), (-4+3j), (-2+3j), 3j, (2+3j), (4+3j), (6+3j), (8+3j), (10+3j)], [(-10+4j), (-8+4j), (-6+4j), (-4+4j), (-2+4j), 4j, (2+4j), (4+4j), (6+4j), (8+4j), (10+4j)], [(-10+5j), (-8+5j), (-6+5j), (-4+5j), (-2+5j), 5j, (2+5j), (4+5j), (6+5j), (8+5j), (10+5j)]]\n",
      "\n",
      "=============Testing our zoom creation====================\n",
      "\n",
      "[[(-1-1j), (1-1j)], [(-1+1j), (1+1j)]]\n",
      "\n",
      "=============Testing our set_f creation====================\n",
      "\n",
      "[[(-2-2j), (2-2j)], [(-2+2j), (2+2j)]]\n"
     ]
    }
   ],
   "source": [
    "import cplane\n",
    "\n",
    "print(\"\\n=============Testing our class creation====================\\n\")\n",
    "# Plane creation, with parameters\n",
    "c1 = cplane.ComplexPlane(-5,5,10,-5,5,10)\n",
    "\n",
    "print(c1.plane)\n",
    "\n",
    "print(\"\\n=============Testing our refresh function====================\\n\")\n",
    "\n",
    "# Revaluing some of our variables, and then calling refresh() to rebuild the plane.\n",
    "c1.xmin = -10\n",
    "c1.xmax = 10\n",
    "c1.xlen = 10\n",
    "c1.refresh()\n",
    "print(c1.plane)\n",
    "\n",
    "print(\"\\n=============Testing our zoom creation====================\\n\")\n",
    "\n",
    "# Testing zoom() function with new parameters\n",
    "c1.zoom(-1,1,1,-1,1,1)\n",
    "print(c1.plane)\n",
    "\n",
    "print(\"\\n=============Testing our set_f creation====================\\n\")\n",
    "\n",
    "# Testing our set_f() funciton by inputing in a new f function\n",
    "c1.set_f(lambda x:2*x)\n",
    "print(c1.plane)\n",
    "\n"
   ]
  },
  {
   "cell_type": "markdown",
   "metadata": {},
   "source": [
    "#### Conclusion\n",
    "\n",
    "Although this may be hard to read, as we can see, the first print of our plane shows all the list of lists of all the points in the 2d grid, with the parameters x = {-5,5} and y = {-5,5}.\n",
    "\n",
    "Our other three functions: refresh(), zoom(), and set_f() work as well, as the 2d grid was able to store the correct values after each function call. "
   ]
  },
  {
   "cell_type": "code",
   "execution_count": null,
   "metadata": {
    "collapsed": true
   },
   "outputs": [],
   "source": []
  }
 ],
 "metadata": {
  "kernelspec": {
   "display_name": "Anaconda (Python 3)",
   "language": "python",
   "name": "anaconda3"
  },
  "language_info": {
   "codemirror_mode": {
    "name": "ipython",
    "version": 3
   },
   "file_extension": ".py",
   "mimetype": "text/x-python",
   "name": "python",
   "nbconvert_exporter": "python",
   "pygments_lexer": "ipython3",
   "version": "3.5.2"
  }
 },
 "nbformat": 4,
 "nbformat_minor": 0
}
